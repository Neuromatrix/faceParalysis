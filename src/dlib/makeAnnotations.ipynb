{
 "cells": [
  {
   "cell_type": "code",
   "execution_count": 5,
   "metadata": {},
   "outputs": [],
   "source": [
    "import dlib\n",
    "import cv2\n",
    "import json\n",
    "import os\n",
    "DataBaseName = \"droopy/\"\n",
    "PathToRoot = \"../../\"\n",
    "# Путь к предобученной модели\n",
    "shape_predictor_path = \"models/shape_predictor_68_face_landmarks.dat\"\n",
    "raw_data_path = PathToRoot + \"data/raw/Strokefaces/\" + DataBaseName\n",
    "output_annotations_path = PathToRoot + \"data/annotations/\" + DataBaseName"
   ]
  },
  {
   "cell_type": "code",
   "execution_count": 6,
   "metadata": {},
   "outputs": [
    {
     "name": "stdout",
     "output_type": "stream",
     "text": [
      "Аннотации сохранены.\n"
     ]
    }
   ],
   "source": [
    "\n",
    "\n",
    "# Загрузка модели\n",
    "detector = dlib.get_frontal_face_detector()\n",
    "predictor = dlib.shape_predictor(shape_predictor_path)\n",
    "\n",
    "annotations = []\n",
    "\n",
    "for filename in os.listdir(raw_data_path):\n",
    "    if filename.endswith(\".jpg\") or filename.endswith(\".png\"):\n",
    "        img = cv2.imread(os.path.join(raw_data_path, filename))\n",
    "        gray = cv2.cvtColor(img, cv2.COLOR_BGR2GRAY)\n",
    "        rects = detector(gray, 1)\n",
    "\n",
    "        for (i, rect) in enumerate(rects):\n",
    "            shape = predictor(gray, rect)\n",
    "            landmarks = []\n",
    "            for (x, y) in [(shape.part(j).x, shape.part(j).y) for j in range(0, 68)]:\n",
    "                landmarks.append({\"x\": x, \"y\": y})\n",
    "\n",
    "            annotations.append({\"image\": filename, \"landmarks\": landmarks})\n",
    "\n",
    "# Сохранение аннотаций в JSON файл\n",
    "with open(os.path.join(output_annotations_path, \"annotations_dlib.json\"), \"w\") as f:\n",
    "    json.dump(annotations, f, indent=4)\n",
    "\n",
    "print(\"Аннотации сохранены.\")"
   ]
  }
 ],
 "metadata": {
  "kernelspec": {
   "display_name": "venv",
   "language": "python",
   "name": "python3"
  },
  "language_info": {
   "codemirror_mode": {
    "name": "ipython",
    "version": 3
   },
   "file_extension": ".py",
   "mimetype": "text/x-python",
   "name": "python",
   "nbconvert_exporter": "python",
   "pygments_lexer": "ipython3",
   "version": "3.11.4"
  }
 },
 "nbformat": 4,
 "nbformat_minor": 2
}
