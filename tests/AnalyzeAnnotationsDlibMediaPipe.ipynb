{
 "cells": [
  {
   "cell_type": "code",
   "execution_count": 3,
   "metadata": {},
   "outputs": [],
   "source": [
    "from scipy.spatial import KDTree\n",
    "import json\n",
    "import os\n",
    "DataBaseName = \"droopy/\"\n",
    "PathToRoot = \"../\"\n",
    "annotations_path_mediapipe = PathToRoot + \"data/annotations/\" + DataBaseName + \"annotations_mediapipe.json\"\n",
    "annotations_path_dlib = PathToRoot + \"data/annotations/\" + DataBaseName + \"annotations_dlib.json\""
   ]
  },
  {
   "cell_type": "code",
   "execution_count": 4,
   "metadata": {},
   "outputs": [
    {
     "name": "stdout",
     "output_type": "stream",
     "text": [
      "0.12000099037653832\n"
     ]
    }
   ],
   "source": [
    "# M_points and N_points are arrays of (x, y) tuples\n",
    "mediapipe_points = []\n",
    "dlib_points = []\n",
    "with open(annotations_path_mediapipe, \"r\") as f:\n",
    "    annotations_mediapipe = json.load(f)\n",
    "\n",
    "# Проход по всем аннотациям\n",
    "for annotation in annotations_mediapipe:\n",
    "    image_filename = annotation[\"image\"]\n",
    "    landmarks = annotation[\"landmarks\"]\n",
    "    for landmark in landmarks:\n",
    "        x = landmark[\"x\"]\n",
    "        y = landmark[\"y\"]\n",
    "        mediapipe_points.append((x,y))\n",
    "\n",
    "with open(annotations_path_dlib, \"r\") as f:\n",
    "    annotations_dlib = json.load(f)\n",
    "\n",
    "# Проход по всем аннотациям\n",
    "for annotation in annotations_dlib:\n",
    "    image_filename = annotation[\"image\"]\n",
    "    landmarks = annotation[\"landmarks\"]\n",
    "    for landmark in landmarks:\n",
    "        x = landmark[\"x\"]\n",
    "        y = landmark[\"y\"]\n",
    "        dlib_points.append((x,y))\n",
    "\n",
    "# Build the KDTree with M set points\n",
    "tree = KDTree(mediapipe_points)\n",
    "\n",
    "# Find the nearest neighbor for each point in N set\n",
    "closest_points = []\n",
    "mid_dist = 0\n",
    "for point in dlib_points:\n",
    "    dist, idx = tree.query(point)\n",
    "    mid_dist += dist\n",
    "print(mid_dist/len(dlib_points))\n",
    "\n",
    "# closest_points will now contain the nearest points from M set for each point in N set\n"
   ]
  },
  {
   "cell_type": "code",
   "execution_count": null,
   "metadata": {},
   "outputs": [],
   "source": []
  }
 ],
 "metadata": {
  "kernelspec": {
   "display_name": "venv",
   "language": "python",
   "name": "python3"
  },
  "language_info": {
   "codemirror_mode": {
    "name": "ipython",
    "version": 3
   },
   "file_extension": ".py",
   "mimetype": "text/x-python",
   "name": "python",
   "nbconvert_exporter": "python",
   "pygments_lexer": "ipython3",
   "version": "3.11.4"
  }
 },
 "nbformat": 4,
 "nbformat_minor": 2
}
