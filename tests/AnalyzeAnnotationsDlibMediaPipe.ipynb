{
 "cells": [
  {
   "cell_type": "code",
   "execution_count": 1,
   "metadata": {},
   "outputs": [],
   "source": [
    "from scipy.spatial import KDTree\n",
    "import json\n",
    "import os\n",
    "DataBaseName = \"droopy/\"\n",
    "PathToRoot = \"../\"\n",
    "annotations_path_mediapipe = PathToRoot + \"data/annotations/\" + DataBaseName + \"annotations_mediapipe.json\"\n",
    "annotations_path_dlib = PathToRoot + \"data/annotations/\" + DataBaseName + \"annotations_dlib.json\""
   ]
  },
  {
   "cell_type": "code",
   "execution_count": 2,
   "metadata": {},
   "outputs": [
    {
     "ename": "FileNotFoundError",
     "evalue": "[Errno 2] No such file or directory: '../../data/annotations/droopy/annotations_mediapipe.json'",
     "output_type": "error",
     "traceback": [
      "\u001b[0;31m---------------------------------------------------------------------------\u001b[0m",
      "\u001b[0;31mFileNotFoundError\u001b[0m                         Traceback (most recent call last)",
      "Cell \u001b[0;32mIn[2], line 4\u001b[0m\n\u001b[1;32m      2\u001b[0m mediapipe_points \u001b[38;5;241m=\u001b[39m []\n\u001b[1;32m      3\u001b[0m dlib_points \u001b[38;5;241m=\u001b[39m []\n\u001b[0;32m----> 4\u001b[0m \u001b[38;5;28;01mwith\u001b[39;00m \u001b[38;5;28;43mopen\u001b[39;49m\u001b[43m(\u001b[49m\u001b[43mannotations_path_mediapipe\u001b[49m\u001b[43m,\u001b[49m\u001b[43m \u001b[49m\u001b[38;5;124;43m\"\u001b[39;49m\u001b[38;5;124;43mr\u001b[39;49m\u001b[38;5;124;43m\"\u001b[39;49m\u001b[43m)\u001b[49m \u001b[38;5;28;01mas\u001b[39;00m f:\n\u001b[1;32m      5\u001b[0m     annotations_mediapipe \u001b[38;5;241m=\u001b[39m json\u001b[38;5;241m.\u001b[39mload(f)\n\u001b[1;32m      7\u001b[0m \u001b[38;5;66;03m# Проход по всем аннотациям\u001b[39;00m\n",
      "File \u001b[0;32m~/faceParalysis/venv/lib/python3.11/site-packages/IPython/core/interactiveshell.py:324\u001b[0m, in \u001b[0;36m_modified_open\u001b[0;34m(file, *args, **kwargs)\u001b[0m\n\u001b[1;32m    317\u001b[0m \u001b[38;5;28;01mif\u001b[39;00m file \u001b[38;5;129;01min\u001b[39;00m {\u001b[38;5;241m0\u001b[39m, \u001b[38;5;241m1\u001b[39m, \u001b[38;5;241m2\u001b[39m}:\n\u001b[1;32m    318\u001b[0m     \u001b[38;5;28;01mraise\u001b[39;00m \u001b[38;5;167;01mValueError\u001b[39;00m(\n\u001b[1;32m    319\u001b[0m         \u001b[38;5;124mf\u001b[39m\u001b[38;5;124m\"\u001b[39m\u001b[38;5;124mIPython won\u001b[39m\u001b[38;5;124m'\u001b[39m\u001b[38;5;124mt let you open fd=\u001b[39m\u001b[38;5;132;01m{\u001b[39;00mfile\u001b[38;5;132;01m}\u001b[39;00m\u001b[38;5;124m by default \u001b[39m\u001b[38;5;124m\"\u001b[39m\n\u001b[1;32m    320\u001b[0m         \u001b[38;5;124m\"\u001b[39m\u001b[38;5;124mas it is likely to crash IPython. If you know what you are doing, \u001b[39m\u001b[38;5;124m\"\u001b[39m\n\u001b[1;32m    321\u001b[0m         \u001b[38;5;124m\"\u001b[39m\u001b[38;5;124myou can use builtins\u001b[39m\u001b[38;5;124m'\u001b[39m\u001b[38;5;124m open.\u001b[39m\u001b[38;5;124m\"\u001b[39m\n\u001b[1;32m    322\u001b[0m     )\n\u001b[0;32m--> 324\u001b[0m \u001b[38;5;28;01mreturn\u001b[39;00m \u001b[43mio_open\u001b[49m\u001b[43m(\u001b[49m\u001b[43mfile\u001b[49m\u001b[43m,\u001b[49m\u001b[43m \u001b[49m\u001b[38;5;241;43m*\u001b[39;49m\u001b[43margs\u001b[49m\u001b[43m,\u001b[49m\u001b[43m \u001b[49m\u001b[38;5;241;43m*\u001b[39;49m\u001b[38;5;241;43m*\u001b[39;49m\u001b[43mkwargs\u001b[49m\u001b[43m)\u001b[49m\n",
      "\u001b[0;31mFileNotFoundError\u001b[0m: [Errno 2] No such file or directory: '../../data/annotations/droopy/annotations_mediapipe.json'"
     ]
    }
   ],
   "source": [
    "# M_points and N_points are arrays of (x, y) tuples\n",
    "mediapipe_points = []\n",
    "dlib_points = []\n",
    "with open(annotations_path_mediapipe, \"r\") as f:\n",
    "    annotations_mediapipe = json.load(f)\n",
    "\n",
    "# Проход по всем аннотациям\n",
    "for annotation in annotations_mediapipe:\n",
    "    image_filename = annotation[\"image\"]\n",
    "    landmarks = annotation[\"landmarks\"]\n",
    "    for landmark in landmarks:\n",
    "        x = landmark[\"x\"]\n",
    "        y = landmark[\"y\"]\n",
    "        mediapipe_points.append((x,y))\n",
    "\n",
    "with open(annotations_path_dlib, \"r\") as f:\n",
    "    annotations_dlib = json.load(f)\n",
    "\n",
    "# Проход по всем аннотациям\n",
    "for annotation in annotations_dlib:\n",
    "    image_filename = annotation[\"image\"]\n",
    "    landmarks = annotation[\"landmarks\"]\n",
    "    for landmark in landmarks:\n",
    "        x = landmark[\"x\"]\n",
    "        y = landmark[\"y\"]\n",
    "        dlib_points.append((x,y))\n",
    "\n",
    "# Build the KDTree with M set points\n",
    "tree = KDTree(mediapipe_points)\n",
    "\n",
    "# Find the nearest neighbor for each point in N set\n",
    "closest_points = []\n",
    "mid_dist = 0\n",
    "for point in dlib_points:\n",
    "    dist, idx = tree.query(point)\n",
    "    mid_dist += dist\n",
    "print(mid_dist/len(dlib_points))\n",
    "\n",
    "# closest_points will now contain the nearest points from M set for each point in N set\n"
   ]
  },
  {
   "cell_type": "code",
   "execution_count": null,
   "metadata": {},
   "outputs": [],
   "source": []
  }
 ],
 "metadata": {
  "kernelspec": {
   "display_name": "venv",
   "language": "python",
   "name": "python3"
  },
  "language_info": {
   "codemirror_mode": {
    "name": "ipython",
    "version": 3
   },
   "file_extension": ".py",
   "mimetype": "text/x-python",
   "name": "python",
   "nbconvert_exporter": "python",
   "pygments_lexer": "ipython3",
   "version": "3.11.4"
  }
 },
 "nbformat": 4,
 "nbformat_minor": 2
}
